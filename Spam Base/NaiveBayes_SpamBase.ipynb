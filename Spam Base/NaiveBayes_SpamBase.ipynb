{
 "cells": [
  {
   "cell_type": "code",
   "execution_count": 1,
   "id": "847df8ab",
   "metadata": {},
   "outputs": [],
   "source": [
    "import matplotlib.pyplot as plt\n",
    "import pandas as pd\n",
    "import seaborn as sns\n",
    "from sklearn.naive_bayes import GaussianNB\n",
    "from sklearn.metrics import plot_confusion_matrix"
   ]
  },
  {
   "cell_type": "code",
   "execution_count": 2,
   "id": "f48cd3de",
   "metadata": {},
   "outputs": [],
   "source": [
    "train = pd.read_csv(\"DataSet/train_SpamBase.csv\")\n",
    "X_train = train.drop(\"y\",axis=1)\n",
    "y_train = train.y\n",
    "\n",
    "test = pd.read_csv(\"DataSet/test_SpamBase.csv\")\n",
    "X_test = test.drop(\"y\",axis=1)\n",
    "y_test = test.y\n",
    "\n",
    "#class labels for the confusion matrix\n",
    "spam = [\"Not Spam\", \"Spam\"]"
   ]
  },
  {
   "cell_type": "code",
   "execution_count": 3,
   "id": "ee301d4d",
   "metadata": {},
   "outputs": [
    {
     "data": {
      "text/plain": [
       "GaussianNB()"
      ]
     },
     "execution_count": 3,
     "metadata": {},
     "output_type": "execute_result"
    }
   ],
   "source": [
    "nb = GaussianNB()\n",
    "\n",
    "#fitting the data\n",
    "nb.fit(X_train,y_train)"
   ]
  },
  {
   "cell_type": "code",
   "execution_count": 4,
   "id": "39e476bd",
   "metadata": {},
   "outputs": [
    {
     "name": "stdout",
     "output_type": "stream",
     "text": [
      "training data accuracy from the model : 82.20%\n"
     ]
    }
   ],
   "source": [
    "print(\"training data accuracy from the model : \"+\n",
    "      str(\"{:.2%}\".format(nb.score(X_train,y_train))))"
   ]
  },
  {
   "cell_type": "code",
   "execution_count": 5,
   "id": "40c8f6f4",
   "metadata": {},
   "outputs": [
    {
     "data": {
      "text/plain": [
       "<sklearn.metrics._plot.confusion_matrix.ConfusionMatrixDisplay at 0x166398d3220>"
      ]
     },
     "execution_count": 5,
     "metadata": {},
     "output_type": "execute_result"
    },
    {
     "data": {
      "image/png": "[encoded data removed]",
      "text/plain": [
       "<Figure size 432x288 with 2 Axes>"
      ]
     },
     "metadata": {
      "needs_background": "light"
     },
     "output_type": "display_data"
    }
   ],
   "source": [
    "plot_confusion_matrix(\n",
    "    nb,\n",
    "    X_test,\n",
    "    y_test,\n",
    "    display_labels = spam,\n",
    "    normalize =\"true\"\n",
    ")"
   ]
  },
  {
   "cell_type": "code",
   "execution_count": 6,
   "id": "ebb07876",
   "metadata": {},
   "outputs": [
    {
     "name": "stdout",
     "output_type": "stream",
     "text": [
      "test data accuracy from the model : 82.04%\n"
     ]
    }
   ],
   "source": [
    "print(\"test data accuracy from the model : \"+\n",
    "      str(\"{:.2%}\".format(nb.score(X_test,y_test))))"
   ]
  },
  {
   "cell_type": "code",
   "execution_count": null,
   "id": "33ce635e",
   "metadata": {},
   "outputs": [],
   "source": []
  }
 ],
 "metadata": {
  "kernelspec": {
   "display_name": "Python 3",
   "language": "python",
   "name": "python3"
  },
  "language_info": {
   "codemirror_mode": {
    "name": "ipython",
    "version": 3
   },
   "file_extension": ".py",
   "mimetype": "text/x-python",
   "name": "python",
   "nbconvert_exporter": "python",
   "pygments_lexer": "ipython3",
   "version": "3.8.8"
  }
 },
 "nbformat": 4,
 "nbformat_minor": 5
}
